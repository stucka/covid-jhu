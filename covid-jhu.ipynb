{
 "cells": [
  {
   "cell_type": "code",
   "execution_count": null,
   "id": "07182c8c",
   "metadata": {},
   "outputs": [],
   "source": [
    "import requests\n",
    "from tqdm import tqdm\n",
    "\n",
    "import csv\n",
    "import datetime\n",
    "import pickle"
   ]
  },
  {
   "cell_type": "code",
   "execution_count": null,
   "id": "24e826b5",
   "metadata": {},
   "outputs": [],
   "source": [
    "sources = {\n",
    "    \"cases\": {\n",
    "        \"url\": \"https://raw.githubusercontent.com/CSSEGISandData/COVID-19/master/csse_covid_19_data/csse_covid_19_time_series/time_series_covid19_confirmed_US.csv\"\n",
    "        },\n",
    "    \"deaths\": {\n",
    "        \"url\": \"https://raw.githubusercontent.com/CSSEGISandData/COVID-19/master/csse_covid_19_data/csse_covid_19_time_series/time_series_covid19_deaths_US.csv\"\n",
    "        }\n",
    "    }"
   ]
  },
  {
   "cell_type": "code",
   "execution_count": null,
   "id": "e6608cbd",
   "metadata": {},
   "outputs": [],
   "source": [
    "firstdate = \"1/22/20\""
   ]
  },
  {
   "cell_type": "code",
   "execution_count": null,
   "id": "f29ef571",
   "metadata": {},
   "outputs": [],
   "source": [
    "masterdict = {}\n",
    "statedict = {}\n",
    "datetranslate = {}"
   ]
  },
  {
   "cell_type": "code",
   "execution_count": null,
   "id": "e5cdf423",
   "metadata": {},
   "outputs": [],
   "source": [
    "for source in sources:\n",
    "    url = sources[source]['url']\n",
    "    r = requests.get(url)\n",
    "    localdata = r.text.splitlines()\n",
    "    \n",
    "    # Identify dates and build a table\n",
    "    if source == \"cases\":\n",
    "        headers = localdata[0].split(\",\")\n",
    "        datestart = headers.index(firstdate)\n",
    "        for localdate in headers[datestart:]:\n",
    "            gooddate = datetime.datetime.strptime(localdate, \"%m/%d/%y\").strftime(\"%Y%m%d\")\n",
    "            datetranslate[localdate] = gooddate\n",
    "\n",
    "    # Start parsing the CSV as a CSV\n",
    "    parsedcsv = csv.DictReader(localdata)\n",
    "    for row in tqdm(parsedcsv):\n",
    "        fips = row['FIPS']\n",
    "        if len(fips) == 0:\n",
    "            fips = row['Combined_Key']\n",
    "        elif \".0\" in fips:\n",
    "            fips = str(int(fips.replace(\".0\", \"\"))).zfill(5)\n",
    "        county = row['Admin2']\n",
    "        state = row['Province_State']\n",
    "        if source == \"deaths\":\n",
    "            pop = int(row['Population'])\n",
    "        if fips not in masterdict:\n",
    "            masterdict[fips] = {}\n",
    "        for baddate in datetranslate:\n",
    "            gooddate = datetranslate[baddate]\n",
    "            if gooddate not in masterdict[fips]:\n",
    "                masterdict[fips][gooddate] = {}\n",
    "                masterdict[fips][gooddate][\"fips\"] = fips\n",
    "                masterdict[fips][gooddate][\"state\"] = state\n",
    "                masterdict[fips][gooddate][\"county\"] = county\n",
    "                masterdict[fips][gooddate][\"pop\"] = None\n",
    "                masterdict[fips][gooddate][\"mydate\"] = gooddate\n",
    "            if source == \"deaths\":\n",
    "                masterdict[fips][gooddate][\"pop\"] = pop\n",
    "            localvalue = int(row[baddate])\n",
    "            masterdict[fips][gooddate][source] = localvalue"
   ]
  },
  {
   "cell_type": "code",
   "execution_count": null,
   "id": "9d3becc5",
   "metadata": {},
   "outputs": [],
   "source": [
    "masterdict['12099']['20230101']"
   ]
  },
  {
   "cell_type": "code",
   "execution_count": null,
   "id": "1f2d6718",
   "metadata": {},
   "outputs": [],
   "source": [
    "# Build a straight list of valid dates in yyymmdd formats\n",
    "mydates = []\n",
    "for baddate in datetranslate:\n",
    "    mydates.append(datetranslate[baddate])"
   ]
  },
  {
   "cell_type": "code",
   "execution_count": null,
   "id": "8ff17fba",
   "metadata": {},
   "outputs": [],
   "source": [
    "for i, mydate in enumerate(mydates):\n",
    "    for fips in masterdict:\n",
    "        \n",
    "        # First pass, build out per-day values\n",
    "        for source in sources:\n",
    "            short = source[0]     # Use c(ases) and d(eaths) as abbreiations\n",
    "            if i == 0:\n",
    "                masterdict[fips][mydate][short + \"day\"] = masterdict[fips][mydate][source]\n",
    "            else:\n",
    "                diff = masterdict[fips][mydate][source] - masterdict[fips][mydates[i-1]][source]\n",
    "                masterdict[fips][mydate][short + \"day\"] = diff\n",
    "                \n",
    "        # Second pass, build out per-week values\n",
    "        for source in sources:\n",
    "            short = source[0]     # Use c(ases) and d(eaths) as abbreiations\n",
    "            if i < 7:\n",
    "                masterdict[fips][mydate][short + \"week\"] = masterdict[fips][mydate][source]\n",
    "            else:\n",
    "                diff = masterdict[fips][mydate][source] - masterdict[fips][mydates[i-7]][source]\n",
    "                masterdict[fips][mydate][short + \"week\"] = diff"
   ]
  },
  {
   "cell_type": "code",
   "execution_count": null,
   "id": "bd7184c5",
   "metadata": {},
   "outputs": [],
   "source": [
    "with open(\"full-report.csv\", \"w\", newline=\"\") as outfile:\n",
    "    writer = csv.writer(outfile)\n",
    "    writer.writerow(list(masterdict['12099'][mydates[0]].keys()))\n",
    "    for fips in masterdict:\n",
    "        for mydate in mydates:\n",
    "            writer.writerow(list(masterdict[fips][mydate].values()))"
   ]
  },
  {
   "cell_type": "code",
   "execution_count": null,
   "id": "051aba0f",
   "metadata": {},
   "outputs": [],
   "source": [
    "list(masterdict['12099'][mydates[0]].keys())"
   ]
  },
  {
   "cell_type": "code",
   "execution_count": null,
   "id": "dc85830b",
   "metadata": {},
   "outputs": [],
   "source": [
    "statedict = {}\n",
    "for fips in masterdict:\n",
    "    for mydate in mydates:\n",
    "        z = masterdict[fips][mydate]\n",
    "        state = z['state']\n",
    "        if state not in statedict:\n",
    "            statedict[state] = {}\n",
    "        if mydate not in statedict[state]:\n",
    "            statedict[state][mydate] = {}\n",
    "            statedict[state][mydate][\"state\"] = state\n",
    "            statedict[state][mydate][\"pop\"] = 0\n",
    "            statedict[state][mydate][\"mydate\"] = mydate\n",
    "            for item in [\"cases\", \"deaths\", \"cday\", \"dday\", \"cweek\", \"dweek\"]:\n",
    "                statedict[state][mydate][item] = 0\n",
    "        for item in [\"pop\", \"cases\", \"deaths\", \"cday\", \"dday\", \"cweek\", \"dweek\"]:\n",
    "            statedict[state][mydate][item] += z[item]"
   ]
  },
  {
   "cell_type": "code",
   "execution_count": null,
   "id": "7a8ee7b6",
   "metadata": {},
   "outputs": [],
   "source": [
    "with open(\"state-report.csv\", \"w\", newline=\"\") as outfile:\n",
    "    writer = csv.writer(outfile)\n",
    "    writer.writerow(list(statedict[\"Florida\"][\"20220101\"].keys()))\n",
    "    for state in statedict:\n",
    "        for mydate in mydates:\n",
    "            writer.writerow(list(statedict[state][mydate].values()))"
   ]
  },
  {
   "cell_type": "code",
   "execution_count": null,
   "id": "8f765d03",
   "metadata": {},
   "outputs": [],
   "source": []
  }
 ],
 "metadata": {
  "kernelspec": {
   "display_name": "Python 3 (ipykernel)",
   "language": "python",
   "name": "python3"
  },
  "language_info": {
   "codemirror_mode": {
    "name": "ipython",
    "version": 3
   },
   "file_extension": ".py",
   "mimetype": "text/x-python",
   "name": "python",
   "nbconvert_exporter": "python",
   "pygments_lexer": "ipython3",
   "version": "3.10.6"
  }
 },
 "nbformat": 4,
 "nbformat_minor": 5
}
